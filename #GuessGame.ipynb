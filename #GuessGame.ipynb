{
 "cells": [
  {
   "cell_type": "code",
   "execution_count": 2,
   "metadata": {},
   "outputs": [
    {
     "name": "stdout",
     "output_type": "stream",
     "text": [
      "you have to guess the secret number between 1-20\n",
      "Let's begin!!!\n",
      "Take a guess\n",
      "5\n",
      "you guess is low\n",
      "sorry\n",
      "Take a guess\n",
      "10\n",
      "you guess is low\n",
      "sorry\n",
      "Take a guess\n",
      "15\n",
      "you guess is correct, Congratulations!!!!\n",
      "number of attempts taken3guesses!\n"
     ]
    }
   ],
   "source": [
    "#Guess the number game\n",
    "import random\n",
    "secret=random.randint(1,20)\n",
    "print(\"you have to guess the secret number between 1-20\")\n",
    "print(\"Let's begin!!!\")\n",
    "for chances in range(1,5):\n",
    "    print(\"Take a guess\")\n",
    "    guess=int(input())\n",
    "\n",
    "    if guess> secret:\n",
    "        print(\"your guess is high\")\n",
    "        print(\"sorry\")\n",
    "\n",
    "    elif guess<secret:\n",
    "        print(\"your guess is low\")\n",
    "        print(\"sorry\")\n",
    "    else:\n",
    "        break\n",
    "\n",
    "if guess== secret:\n",
    "    print(\"your guess is correct, Congratulations!!!!\")\n",
    "    print(\"number of attempts taken\"+ str(chances)+ 'guesses!')\n",
    "else:\n",
    "    print(\"Nope!!!! The number is was thinking of was \"+ str(secret))\n"
   ]
  },
  {
   "cell_type": "code",
   "execution_count": null,
   "metadata": {},
   "outputs": [],
   "source": []
  }
 ],
 "metadata": {
  "kernelspec": {
   "display_name": "Python 3",
   "language": "python",
   "name": "python3"
  },
  "language_info": {
   "codemirror_mode": {
    "name": "ipython",
    "version": 3
   },
   "file_extension": ".py",
   "mimetype": "text/x-python",
   "name": "python",
   "nbconvert_exporter": "python",
   "pygments_lexer": "ipython3",
   "version": "3.7.4"
  },
  "toc": {
   "base_numbering": 1,
   "nav_menu": {},
   "number_sections": true,
   "sideBar": true,
   "skip_h1_title": false,
   "title_cell": "Table of Contents",
   "title_sidebar": "Contents",
   "toc_cell": false,
   "toc_position": {},
   "toc_section_display": true,
   "toc_window_display": false
  },
  "varInspector": {
   "cols": {
    "lenName": 16,
    "lenType": 16,
    "lenVar": 40
   },
   "kernels_config": {
    "python": {
     "delete_cmd_postfix": "",
     "delete_cmd_prefix": "del ",
     "library": "var_list.py",
     "varRefreshCmd": "print(var_dic_list())"
    },
    "r": {
     "delete_cmd_postfix": ") ",
     "delete_cmd_prefix": "rm(",
     "library": "var_list.r",
     "varRefreshCmd": "cat(var_dic_list()) "
    }
   },
   "types_to_exclude": [
    "module",
    "function",
    "builtin_function_or_method",
    "instance",
    "_Feature"
   ],
   "window_display": false
  }
 },
 "nbformat": 4,
 "nbformat_minor": 2
}
